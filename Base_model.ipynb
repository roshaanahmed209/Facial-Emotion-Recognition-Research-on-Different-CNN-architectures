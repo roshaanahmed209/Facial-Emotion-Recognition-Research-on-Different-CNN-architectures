{
  "cells": [
    {
      "cell_type": "code",
      "execution_count": 1,
      "id": "19ce7749",
      "metadata": {
        "colab": {
          "base_uri": "https://localhost:8080/",
          "height": 0
        },
        "id": "19ce7749",
        "outputId": "78d8e247-74ca-4c60-8555-0553ff91040f"
      },
      "outputs": [
        {
          "output_type": "stream",
          "name": "stdout",
          "text": [
            "Requirement already satisfied: tensorflow in /usr/local/lib/python3.10/dist-packages (2.15.0)\n",
            "Requirement already satisfied: absl-py>=1.0.0 in /usr/local/lib/python3.10/dist-packages (from tensorflow) (1.4.0)\n",
            "Requirement already satisfied: astunparse>=1.6.0 in /usr/local/lib/python3.10/dist-packages (from tensorflow) (1.6.3)\n",
            "Requirement already satisfied: flatbuffers>=23.5.26 in /usr/local/lib/python3.10/dist-packages (from tensorflow) (24.3.25)\n",
            "Requirement already satisfied: gast!=0.5.0,!=0.5.1,!=0.5.2,>=0.2.1 in /usr/local/lib/python3.10/dist-packages (from tensorflow) (0.5.4)\n",
            "Requirement already satisfied: google-pasta>=0.1.1 in /usr/local/lib/python3.10/dist-packages (from tensorflow) (0.2.0)\n",
            "Requirement already satisfied: h5py>=2.9.0 in /usr/local/lib/python3.10/dist-packages (from tensorflow) (3.9.0)\n",
            "Requirement already satisfied: libclang>=13.0.0 in /usr/local/lib/python3.10/dist-packages (from tensorflow) (18.1.1)\n",
            "Requirement already satisfied: ml-dtypes~=0.2.0 in /usr/local/lib/python3.10/dist-packages (from tensorflow) (0.2.0)\n",
            "Requirement already satisfied: numpy<2.0.0,>=1.23.5 in /usr/local/lib/python3.10/dist-packages (from tensorflow) (1.25.2)\n",
            "Requirement already satisfied: opt-einsum>=2.3.2 in /usr/local/lib/python3.10/dist-packages (from tensorflow) (3.3.0)\n",
            "Requirement already satisfied: packaging in /usr/local/lib/python3.10/dist-packages (from tensorflow) (24.0)\n",
            "Requirement already satisfied: protobuf!=4.21.0,!=4.21.1,!=4.21.2,!=4.21.3,!=4.21.4,!=4.21.5,<5.0.0dev,>=3.20.3 in /usr/local/lib/python3.10/dist-packages (from tensorflow) (3.20.3)\n",
            "Requirement already satisfied: setuptools in /usr/local/lib/python3.10/dist-packages (from tensorflow) (67.7.2)\n",
            "Requirement already satisfied: six>=1.12.0 in /usr/local/lib/python3.10/dist-packages (from tensorflow) (1.16.0)\n",
            "Requirement already satisfied: termcolor>=1.1.0 in /usr/local/lib/python3.10/dist-packages (from tensorflow) (2.4.0)\n",
            "Requirement already satisfied: typing-extensions>=3.6.6 in /usr/local/lib/python3.10/dist-packages (from tensorflow) (4.11.0)\n",
            "Requirement already satisfied: wrapt<1.15,>=1.11.0 in /usr/local/lib/python3.10/dist-packages (from tensorflow) (1.14.1)\n",
            "Requirement already satisfied: tensorflow-io-gcs-filesystem>=0.23.1 in /usr/local/lib/python3.10/dist-packages (from tensorflow) (0.37.0)\n",
            "Requirement already satisfied: grpcio<2.0,>=1.24.3 in /usr/local/lib/python3.10/dist-packages (from tensorflow) (1.63.0)\n",
            "Requirement already satisfied: tensorboard<2.16,>=2.15 in /usr/local/lib/python3.10/dist-packages (from tensorflow) (2.15.2)\n",
            "Requirement already satisfied: tensorflow-estimator<2.16,>=2.15.0 in /usr/local/lib/python3.10/dist-packages (from tensorflow) (2.15.0)\n",
            "Requirement already satisfied: keras<2.16,>=2.15.0 in /usr/local/lib/python3.10/dist-packages (from tensorflow) (2.15.0)\n",
            "Requirement already satisfied: wheel<1.0,>=0.23.0 in /usr/local/lib/python3.10/dist-packages (from astunparse>=1.6.0->tensorflow) (0.43.0)\n",
            "Requirement already satisfied: google-auth<3,>=1.6.3 in /usr/local/lib/python3.10/dist-packages (from tensorboard<2.16,>=2.15->tensorflow) (2.27.0)\n",
            "Requirement already satisfied: google-auth-oauthlib<2,>=0.5 in /usr/local/lib/python3.10/dist-packages (from tensorboard<2.16,>=2.15->tensorflow) (1.2.0)\n",
            "Requirement already satisfied: markdown>=2.6.8 in /usr/local/lib/python3.10/dist-packages (from tensorboard<2.16,>=2.15->tensorflow) (3.6)\n",
            "Requirement already satisfied: requests<3,>=2.21.0 in /usr/local/lib/python3.10/dist-packages (from tensorboard<2.16,>=2.15->tensorflow) (2.31.0)\n",
            "Requirement already satisfied: tensorboard-data-server<0.8.0,>=0.7.0 in /usr/local/lib/python3.10/dist-packages (from tensorboard<2.16,>=2.15->tensorflow) (0.7.2)\n",
            "Requirement already satisfied: werkzeug>=1.0.1 in /usr/local/lib/python3.10/dist-packages (from tensorboard<2.16,>=2.15->tensorflow) (3.0.2)\n",
            "Requirement already satisfied: cachetools<6.0,>=2.0.0 in /usr/local/lib/python3.10/dist-packages (from google-auth<3,>=1.6.3->tensorboard<2.16,>=2.15->tensorflow) (5.3.3)\n",
            "Requirement already satisfied: pyasn1-modules>=0.2.1 in /usr/local/lib/python3.10/dist-packages (from google-auth<3,>=1.6.3->tensorboard<2.16,>=2.15->tensorflow) (0.4.0)\n",
            "Requirement already satisfied: rsa<5,>=3.1.4 in /usr/local/lib/python3.10/dist-packages (from google-auth<3,>=1.6.3->tensorboard<2.16,>=2.15->tensorflow) (4.9)\n",
            "Requirement already satisfied: requests-oauthlib>=0.7.0 in /usr/local/lib/python3.10/dist-packages (from google-auth-oauthlib<2,>=0.5->tensorboard<2.16,>=2.15->tensorflow) (1.3.1)\n",
            "Requirement already satisfied: charset-normalizer<4,>=2 in /usr/local/lib/python3.10/dist-packages (from requests<3,>=2.21.0->tensorboard<2.16,>=2.15->tensorflow) (3.3.2)\n",
            "Requirement already satisfied: idna<4,>=2.5 in /usr/local/lib/python3.10/dist-packages (from requests<3,>=2.21.0->tensorboard<2.16,>=2.15->tensorflow) (3.7)\n",
            "Requirement already satisfied: urllib3<3,>=1.21.1 in /usr/local/lib/python3.10/dist-packages (from requests<3,>=2.21.0->tensorboard<2.16,>=2.15->tensorflow) (2.0.7)\n",
            "Requirement already satisfied: certifi>=2017.4.17 in /usr/local/lib/python3.10/dist-packages (from requests<3,>=2.21.0->tensorboard<2.16,>=2.15->tensorflow) (2024.2.2)\n",
            "Requirement already satisfied: MarkupSafe>=2.1.1 in /usr/local/lib/python3.10/dist-packages (from werkzeug>=1.0.1->tensorboard<2.16,>=2.15->tensorflow) (2.1.5)\n",
            "Requirement already satisfied: pyasn1<0.7.0,>=0.4.6 in /usr/local/lib/python3.10/dist-packages (from pyasn1-modules>=0.2.1->google-auth<3,>=1.6.3->tensorboard<2.16,>=2.15->tensorflow) (0.6.0)\n",
            "Requirement already satisfied: oauthlib>=3.0.0 in /usr/local/lib/python3.10/dist-packages (from requests-oauthlib>=0.7.0->google-auth-oauthlib<2,>=0.5->tensorboard<2.16,>=2.15->tensorflow) (3.2.2)\n",
            "Collecting keras_preprocessing\n",
            "  Downloading Keras_Preprocessing-1.1.2-py2.py3-none-any.whl (42 kB)\n",
            "\u001b[2K     \u001b[90m━━━━━━━━━━━━━━━━━━━━━━━━━━━━━━━━━━━━━━━━\u001b[0m \u001b[32m42.6/42.6 kB\u001b[0m \u001b[31m1.5 MB/s\u001b[0m eta \u001b[36m0:00:00\u001b[0m\n",
            "\u001b[?25hRequirement already satisfied: numpy>=1.9.1 in /usr/local/lib/python3.10/dist-packages (from keras_preprocessing) (1.25.2)\n",
            "Requirement already satisfied: six>=1.9.0 in /usr/local/lib/python3.10/dist-packages (from keras_preprocessing) (1.16.0)\n",
            "Installing collected packages: keras_preprocessing\n",
            "Successfully installed keras_preprocessing-1.1.2\n",
            "Requirement already satisfied: keras in /usr/local/lib/python3.10/dist-packages (2.15.0)\n"
          ]
        }
      ],
      "source": [
        "!pip install tensorflow\n",
        "!pip install keras_preprocessing\n",
        "!pip install keras\n",
        "from keras.utils import to_categorical\n",
        "from keras_preprocessing.image import load_img\n",
        "from keras.models import Sequential\n",
        "from keras.layers import Dense, Conv2D, Dropout, Flatten, MaxPooling2D\n",
        "import os\n",
        "import pandas as pd\n",
        "import numpy as np\n",
        "from keras.models import Model\n"
      ]
    },
    {
      "cell_type": "code",
      "source": [
        "from google.colab import drive\n",
        "drive.mount('/content/drive')"
      ],
      "metadata": {
        "colab": {
          "base_uri": "https://localhost:8080/",
          "height": 0
        },
        "id": "nEHlf4aUam8M",
        "outputId": "b73de25f-c2bf-4243-8538-96275dc3f3b2"
      },
      "id": "nEHlf4aUam8M",
      "execution_count": 2,
      "outputs": [
        {
          "output_type": "stream",
          "name": "stdout",
          "text": [
            "Mounted at /content/drive\n"
          ]
        }
      ]
    },
    {
      "cell_type": "code",
      "execution_count": 3,
      "id": "02e9c221",
      "metadata": {
        "id": "02e9c221"
      },
      "outputs": [],
      "source": [
        "TRAIN_DIR = 'drive/MyDrive/images/train'\n",
        "TEST_DIR = 'drive/MyDrive/images/test'"
      ]
    },
    {
      "cell_type": "code",
      "execution_count": 4,
      "id": "ede9c1f1",
      "metadata": {
        "id": "ede9c1f1"
      },
      "outputs": [],
      "source": [
        "def createdataframe(dir):\n",
        "    image_paths = []\n",
        "    labels = []\n",
        "    for label in os.listdir(dir):\n",
        "        for imagename in os.listdir(os.path.join(dir,label)):\n",
        "            image_paths.append(os.path.join(dir,label,imagename))\n",
        "            labels.append(label)\n",
        "        print(label, \"completed\")\n",
        "    return image_paths,labels\n"
      ]
    },
    {
      "cell_type": "code",
      "source": [
        "import random\n",
        "\n",
        "# Function to create DataFrame containing limited number of image paths and labels\n",
        "def create_limited_dataframe(dir, max_images_per_label):\n",
        "    image_paths = []\n",
        "    labels = []\n",
        "    for label in os.listdir(dir):\n",
        "        label_images = [os.path.join(dir, label, imagename) for imagename in os.listdir(os.path.join(dir, label))]\n",
        "        random.shuffle(label_images)  # Shuffle the images for randomness\n",
        "        label_images = label_images[:max_images_per_label]  # Select a limited number of images per label\n",
        "        image_paths.extend(label_images)\n",
        "        labels.extend([label] * len(label_images))\n",
        "        print(f\"{label}: {len(label_images)} images completed\")\n",
        "    return image_paths, labels\n",
        "\n",
        "# Define the maximum number of images per label\n",
        "MAX_IMAGES_PER_LABEL = 1000\n",
        "\n",
        "# Create limited DataFrames for train and test data\n",
        "train = pd.DataFrame()\n",
        "train['image'], train['label'] = create_limited_dataframe(TRAIN_DIR, MAX_IMAGES_PER_LABEL)\n",
        "\n",
        "test = pd.DataFrame()\n",
        "test['image'], test['label'] = create_limited_dataframe(TEST_DIR, MAX_IMAGES_PER_LABEL)"
      ],
      "metadata": {
        "colab": {
          "base_uri": "https://localhost:8080/",
          "height": 0
        },
        "id": "114-G_2-XZfk",
        "outputId": "1f0db8d0-f577-4c97-c94b-1b58a3e8034b"
      },
      "id": "114-G_2-XZfk",
      "execution_count": 5,
      "outputs": [
        {
          "output_type": "stream",
          "name": "stdout",
          "text": [
            "neutral: 1000 images completed\n",
            "sad: 1000 images completed\n",
            "happy: 1000 images completed\n",
            "surprise: 1000 images completed\n",
            "angry: 1000 images completed\n",
            "angry: 960 images completed\n",
            "happy: 1000 images completed\n",
            "surprise: 797 images completed\n",
            "neutral: 1000 images completed\n",
            "sad: 1000 images completed\n"
          ]
        }
      ]
    },
    {
      "cell_type": "code",
      "execution_count": 6,
      "id": "693324b0",
      "metadata": {
        "id": "693324b0"
      },
      "outputs": [],
      "source": [
        "from tqdm.notebook import tqdm"
      ]
    },
    {
      "cell_type": "code",
      "execution_count": 7,
      "id": "f52ccbbe",
      "metadata": {
        "id": "f52ccbbe"
      },
      "outputs": [],
      "source": [
        "def extract_features(images):\n",
        "    features = []\n",
        "    for image in images:\n",
        "        img = load_img(image,grayscale =  True )\n",
        "        img = np.array(img)\n",
        "        features.append(img)\n",
        "    features = np.array(features)\n",
        "    features = features.reshape(len(features),48,48,1)\n",
        "    return features\n"
      ]
    },
    {
      "cell_type": "code",
      "execution_count": 8,
      "id": "942a9d40",
      "metadata": {
        "id": "942a9d40",
        "outputId": "3cc4ce23-dbf0-44ef-e4ce-4e0e5643c613",
        "colab": {
          "base_uri": "https://localhost:8080/",
          "height": 0
        }
      },
      "outputs": [
        {
          "output_type": "stream",
          "name": "stderr",
          "text": [
            "/usr/local/lib/python3.10/dist-packages/keras_preprocessing/image/utils.py:107: UserWarning: grayscale is deprecated. Please use color_mode = \"grayscale\"\n",
            "  warnings.warn('grayscale is deprecated. Please use '\n"
          ]
        }
      ],
      "source": [
        "train_features = extract_features(train['image'])"
      ]
    },
    {
      "cell_type": "code",
      "execution_count": 9,
      "id": "c1b294ed",
      "metadata": {
        "id": "c1b294ed"
      },
      "outputs": [],
      "source": [
        "test_features = extract_features(test['image'])"
      ]
    },
    {
      "cell_type": "code",
      "execution_count": 10,
      "id": "f78b5d34",
      "metadata": {
        "id": "f78b5d34"
      },
      "outputs": [],
      "source": [
        "x_train = train_features/255.0\n",
        "x_test = test_features/255.0"
      ]
    },
    {
      "cell_type": "code",
      "execution_count": 11,
      "id": "c660fca1",
      "metadata": {
        "id": "c660fca1"
      },
      "outputs": [],
      "source": [
        "from sklearn.preprocessing import LabelEncoder"
      ]
    },
    {
      "cell_type": "code",
      "execution_count": 12,
      "id": "5384a25b",
      "metadata": {
        "id": "5384a25b",
        "outputId": "f90508b5-ae32-4849-db44-5178bfc59c6c",
        "colab": {
          "base_uri": "https://localhost:8080/",
          "height": 75
        }
      },
      "outputs": [
        {
          "output_type": "execute_result",
          "data": {
            "text/plain": [
              "LabelEncoder()"
            ],
            "text/html": [
              "<style>#sk-container-id-1 {color: black;background-color: white;}#sk-container-id-1 pre{padding: 0;}#sk-container-id-1 div.sk-toggleable {background-color: white;}#sk-container-id-1 label.sk-toggleable__label {cursor: pointer;display: block;width: 100%;margin-bottom: 0;padding: 0.3em;box-sizing: border-box;text-align: center;}#sk-container-id-1 label.sk-toggleable__label-arrow:before {content: \"▸\";float: left;margin-right: 0.25em;color: #696969;}#sk-container-id-1 label.sk-toggleable__label-arrow:hover:before {color: black;}#sk-container-id-1 div.sk-estimator:hover label.sk-toggleable__label-arrow:before {color: black;}#sk-container-id-1 div.sk-toggleable__content {max-height: 0;max-width: 0;overflow: hidden;text-align: left;background-color: #f0f8ff;}#sk-container-id-1 div.sk-toggleable__content pre {margin: 0.2em;color: black;border-radius: 0.25em;background-color: #f0f8ff;}#sk-container-id-1 input.sk-toggleable__control:checked~div.sk-toggleable__content {max-height: 200px;max-width: 100%;overflow: auto;}#sk-container-id-1 input.sk-toggleable__control:checked~label.sk-toggleable__label-arrow:before {content: \"▾\";}#sk-container-id-1 div.sk-estimator input.sk-toggleable__control:checked~label.sk-toggleable__label {background-color: #d4ebff;}#sk-container-id-1 div.sk-label input.sk-toggleable__control:checked~label.sk-toggleable__label {background-color: #d4ebff;}#sk-container-id-1 input.sk-hidden--visually {border: 0;clip: rect(1px 1px 1px 1px);clip: rect(1px, 1px, 1px, 1px);height: 1px;margin: -1px;overflow: hidden;padding: 0;position: absolute;width: 1px;}#sk-container-id-1 div.sk-estimator {font-family: monospace;background-color: #f0f8ff;border: 1px dotted black;border-radius: 0.25em;box-sizing: border-box;margin-bottom: 0.5em;}#sk-container-id-1 div.sk-estimator:hover {background-color: #d4ebff;}#sk-container-id-1 div.sk-parallel-item::after {content: \"\";width: 100%;border-bottom: 1px solid gray;flex-grow: 1;}#sk-container-id-1 div.sk-label:hover label.sk-toggleable__label {background-color: #d4ebff;}#sk-container-id-1 div.sk-serial::before {content: \"\";position: absolute;border-left: 1px solid gray;box-sizing: border-box;top: 0;bottom: 0;left: 50%;z-index: 0;}#sk-container-id-1 div.sk-serial {display: flex;flex-direction: column;align-items: center;background-color: white;padding-right: 0.2em;padding-left: 0.2em;position: relative;}#sk-container-id-1 div.sk-item {position: relative;z-index: 1;}#sk-container-id-1 div.sk-parallel {display: flex;align-items: stretch;justify-content: center;background-color: white;position: relative;}#sk-container-id-1 div.sk-item::before, #sk-container-id-1 div.sk-parallel-item::before {content: \"\";position: absolute;border-left: 1px solid gray;box-sizing: border-box;top: 0;bottom: 0;left: 50%;z-index: -1;}#sk-container-id-1 div.sk-parallel-item {display: flex;flex-direction: column;z-index: 1;position: relative;background-color: white;}#sk-container-id-1 div.sk-parallel-item:first-child::after {align-self: flex-end;width: 50%;}#sk-container-id-1 div.sk-parallel-item:last-child::after {align-self: flex-start;width: 50%;}#sk-container-id-1 div.sk-parallel-item:only-child::after {width: 0;}#sk-container-id-1 div.sk-dashed-wrapped {border: 1px dashed gray;margin: 0 0.4em 0.5em 0.4em;box-sizing: border-box;padding-bottom: 0.4em;background-color: white;}#sk-container-id-1 div.sk-label label {font-family: monospace;font-weight: bold;display: inline-block;line-height: 1.2em;}#sk-container-id-1 div.sk-label-container {text-align: center;}#sk-container-id-1 div.sk-container {/* jupyter's `normalize.less` sets `[hidden] { display: none; }` but bootstrap.min.css set `[hidden] { display: none !important; }` so we also need the `!important` here to be able to override the default hidden behavior on the sphinx rendered scikit-learn.org. See: https://github.com/scikit-learn/scikit-learn/issues/21755 */display: inline-block !important;position: relative;}#sk-container-id-1 div.sk-text-repr-fallback {display: none;}</style><div id=\"sk-container-id-1\" class=\"sk-top-container\"><div class=\"sk-text-repr-fallback\"><pre>LabelEncoder()</pre><b>In a Jupyter environment, please rerun this cell to show the HTML representation or trust the notebook. <br />On GitHub, the HTML representation is unable to render, please try loading this page with nbviewer.org.</b></div><div class=\"sk-container\" hidden><div class=\"sk-item\"><div class=\"sk-estimator sk-toggleable\"><input class=\"sk-toggleable__control sk-hidden--visually\" id=\"sk-estimator-id-1\" type=\"checkbox\" checked><label for=\"sk-estimator-id-1\" class=\"sk-toggleable__label sk-toggleable__label-arrow\">LabelEncoder</label><div class=\"sk-toggleable__content\"><pre>LabelEncoder()</pre></div></div></div></div></div>"
            ]
          },
          "metadata": {},
          "execution_count": 12
        }
      ],
      "source": [
        "le = LabelEncoder()\n",
        "le.fit(train['label'])"
      ]
    },
    {
      "cell_type": "code",
      "execution_count": 13,
      "id": "50ece229",
      "metadata": {
        "id": "50ece229"
      },
      "outputs": [],
      "source": [
        "\n",
        "y_train = le.transform(train['label'])\n",
        "y_test = le.transform(test['label'])"
      ]
    },
    {
      "cell_type": "code",
      "execution_count": 14,
      "id": "5e284299",
      "metadata": {
        "id": "5e284299"
      },
      "outputs": [],
      "source": [
        "y_train = to_categorical(y_train,num_classes = 7)\n",
        "y_test = to_categorical(y_test,num_classes = 7)"
      ]
    },
    {
      "cell_type": "code",
      "execution_count": 15,
      "id": "3977223a",
      "metadata": {
        "id": "3977223a"
      },
      "outputs": [],
      "source": [
        "model = Sequential()\n",
        "# convolutional layers\n",
        "model.add(Conv2D(128, kernel_size=(3,3), activation='relu', input_shape=(48,48,1)))\n",
        "model.add(MaxPooling2D(pool_size=(2,2)))\n",
        "model.add(Dropout(0.4))\n",
        "\n",
        "model.add(Conv2D(256, kernel_size=(3,3), activation='relu'))\n",
        "model.add(MaxPooling2D(pool_size=(2,2)))\n",
        "model.add(Dropout(0.4))\n",
        "\n",
        "model.add(Conv2D(512, kernel_size=(3,3), activation='relu'))\n",
        "model.add(MaxPooling2D(pool_size=(2,2)))\n",
        "model.add(Dropout(0.4))\n",
        "\n",
        "model.add(Conv2D(512, kernel_size=(3,3), activation='relu'))\n",
        "model.add(MaxPooling2D(pool_size=(2,2)))\n",
        "model.add(Dropout(0.4))\n",
        "\n",
        "model.add(Flatten())\n",
        "# fully connected layers\n",
        "model.add(Dense(512, activation='relu'))\n",
        "model.add(Dropout(0.4))\n",
        "model.add(Dense(256, activation='relu'))\n",
        "model.add(Dropout(0.3))\n",
        "# output layer\n",
        "model.add(Dense(7, activation='softmax'))"
      ]
    },
    {
      "cell_type": "code",
      "execution_count": 16,
      "id": "de986d6e",
      "metadata": {
        "id": "de986d6e"
      },
      "outputs": [],
      "source": [
        "model.compile(optimizer='rmsprop', loss='categorical_crossentropy', metrics=['accuracy'])\n"
      ]
    },
    {
      "cell_type": "code",
      "execution_count": 17,
      "metadata": {
        "id": "qUTP1BIKaQjB"
      },
      "outputs": [],
      "source": [
        "import tensorflow as tf"
      ],
      "id": "qUTP1BIKaQjB"
    },
    {
      "cell_type": "code",
      "execution_count": 18,
      "id": "5cd0b130",
      "metadata": {
        "id": "5cd0b130",
        "outputId": "9b0f1824-3cab-44cb-c94b-d7138f3b7e9a",
        "colab": {
          "base_uri": "https://localhost:8080/",
          "height": 0
        }
      },
      "outputs": [
        {
          "output_type": "stream",
          "name": "stdout",
          "text": [
            "Epoch 1/60\n",
            "40/40 [==============================] - 12s 91ms/step - loss: 1.7113 - accuracy: 0.1982 - val_loss: 1.6863 - val_accuracy: 0.2102\n",
            "Epoch 2/60\n",
            "40/40 [==============================] - 2s 59ms/step - loss: 1.6382 - accuracy: 0.1982 - val_loss: 1.6750 - val_accuracy: 0.2018\n",
            "Epoch 3/60\n",
            "40/40 [==============================] - 3s 64ms/step - loss: 1.6327 - accuracy: 0.2010 - val_loss: 1.6413 - val_accuracy: 0.1675\n",
            "Epoch 4/60\n",
            "40/40 [==============================] - 2s 56ms/step - loss: 1.6260 - accuracy: 0.2028 - val_loss: 1.6205 - val_accuracy: 0.2102\n",
            "Epoch 5/60\n",
            "40/40 [==============================] - 2s 62ms/step - loss: 1.6162 - accuracy: 0.2290 - val_loss: 1.6149 - val_accuracy: 0.2117\n",
            "Epoch 6/60\n",
            "40/40 [==============================] - 2s 56ms/step - loss: 1.6004 - accuracy: 0.2376 - val_loss: 1.5957 - val_accuracy: 0.2350\n",
            "Epoch 7/60\n",
            "40/40 [==============================] - 2s 57ms/step - loss: 1.5961 - accuracy: 0.2486 - val_loss: 1.6017 - val_accuracy: 0.2167\n",
            "Epoch 8/60\n",
            "40/40 [==============================] - 2s 59ms/step - loss: 1.5585 - accuracy: 0.2736 - val_loss: 1.6364 - val_accuracy: 0.2409\n",
            "Epoch 9/60\n",
            "40/40 [==============================] - 3s 63ms/step - loss: 1.5022 - accuracy: 0.3264 - val_loss: 1.5095 - val_accuracy: 0.2911\n",
            "Epoch 10/60\n",
            "40/40 [==============================] - 2s 62ms/step - loss: 1.4758 - accuracy: 0.3352 - val_loss: 1.4542 - val_accuracy: 0.3569\n",
            "Epoch 11/60\n",
            "40/40 [==============================] - 2s 56ms/step - loss: 1.4486 - accuracy: 0.3536 - val_loss: 1.5033 - val_accuracy: 0.3094\n",
            "Epoch 12/60\n",
            "40/40 [==============================] - 2s 56ms/step - loss: 1.4345 - accuracy: 0.3644 - val_loss: 1.4957 - val_accuracy: 0.3025\n",
            "Epoch 13/60\n",
            "40/40 [==============================] - 2s 62ms/step - loss: 1.4127 - accuracy: 0.3838 - val_loss: 1.5569 - val_accuracy: 0.3153\n",
            "Epoch 14/60\n",
            "40/40 [==============================] - 3s 64ms/step - loss: 1.3997 - accuracy: 0.3946 - val_loss: 1.4249 - val_accuracy: 0.3458\n",
            "Epoch 15/60\n",
            "40/40 [==============================] - 2s 57ms/step - loss: 1.3596 - accuracy: 0.4212 - val_loss: 1.4584 - val_accuracy: 0.3715\n",
            "Epoch 16/60\n",
            "40/40 [==============================] - 2s 62ms/step - loss: 1.3294 - accuracy: 0.4446 - val_loss: 1.4921 - val_accuracy: 0.3723\n",
            "Epoch 17/60\n",
            "40/40 [==============================] - 2s 57ms/step - loss: 1.3028 - accuracy: 0.4598 - val_loss: 1.2728 - val_accuracy: 0.4806\n",
            "Epoch 18/60\n",
            "40/40 [==============================] - 2s 63ms/step - loss: 1.2793 - accuracy: 0.4648 - val_loss: 1.3638 - val_accuracy: 0.3910\n",
            "Epoch 19/60\n",
            "40/40 [==============================] - 2s 61ms/step - loss: 1.2396 - accuracy: 0.4926 - val_loss: 1.3900 - val_accuracy: 0.4118\n",
            "Epoch 20/60\n",
            "40/40 [==============================] - 3s 63ms/step - loss: 1.2069 - accuracy: 0.5026 - val_loss: 1.3233 - val_accuracy: 0.4457\n",
            "Epoch 21/60\n",
            "40/40 [==============================] - 2s 63ms/step - loss: 1.1712 - accuracy: 0.5334 - val_loss: 1.2009 - val_accuracy: 0.4974\n",
            "Epoch 22/60\n",
            "40/40 [==============================] - 2s 63ms/step - loss: 1.1489 - accuracy: 0.5454 - val_loss: 1.3102 - val_accuracy: 0.4398\n",
            "Epoch 23/60\n",
            "40/40 [==============================] - 2s 63ms/step - loss: 1.0925 - accuracy: 0.5646 - val_loss: 1.1394 - val_accuracy: 0.5474\n",
            "Epoch 24/60\n",
            "40/40 [==============================] - 3s 65ms/step - loss: 1.0866 - accuracy: 0.5684 - val_loss: 1.1594 - val_accuracy: 0.5310\n",
            "Epoch 25/60\n",
            "40/40 [==============================] - 3s 65ms/step - loss: 1.0306 - accuracy: 0.5930 - val_loss: 1.2877 - val_accuracy: 0.4799\n",
            "Epoch 26/60\n",
            "40/40 [==============================] - 2s 63ms/step - loss: 1.0359 - accuracy: 0.6046 - val_loss: 1.3332 - val_accuracy: 0.4875\n",
            "Epoch 27/60\n",
            "40/40 [==============================] - 3s 63ms/step - loss: 1.0054 - accuracy: 0.6114 - val_loss: 1.1153 - val_accuracy: 0.5562\n",
            "Epoch 28/60\n",
            "40/40 [==============================] - 2s 57ms/step - loss: 0.9573 - accuracy: 0.6312 - val_loss: 1.1687 - val_accuracy: 0.5287\n",
            "Epoch 29/60\n",
            "40/40 [==============================] - 3s 64ms/step - loss: 0.9327 - accuracy: 0.6422 - val_loss: 1.3706 - val_accuracy: 0.4770\n",
            "Epoch 30/60\n",
            "40/40 [==============================] - 2s 61ms/step - loss: 0.8959 - accuracy: 0.6554 - val_loss: 1.2133 - val_accuracy: 0.5226\n",
            "Epoch 31/60\n",
            "40/40 [==============================] - 3s 64ms/step - loss: 0.8807 - accuracy: 0.6604 - val_loss: 1.2643 - val_accuracy: 0.5390\n",
            "Epoch 32/60\n",
            "40/40 [==============================] - 3s 64ms/step - loss: 0.8394 - accuracy: 0.6812 - val_loss: 1.2555 - val_accuracy: 0.5073\n",
            "Epoch 33/60\n",
            "40/40 [==============================] - 3s 64ms/step - loss: 0.8153 - accuracy: 0.6936 - val_loss: 1.1188 - val_accuracy: 0.5606\n",
            "Epoch 34/60\n",
            "40/40 [==============================] - 2s 58ms/step - loss: 0.7697 - accuracy: 0.7036 - val_loss: 1.2649 - val_accuracy: 0.5142\n",
            "Epoch 35/60\n",
            "40/40 [==============================] - 2s 62ms/step - loss: 0.7533 - accuracy: 0.7128 - val_loss: 1.1501 - val_accuracy: 0.5787\n",
            "Epoch 36/60\n",
            "40/40 [==============================] - 3s 64ms/step - loss: 0.7686 - accuracy: 0.7098 - val_loss: 1.3532 - val_accuracy: 0.5369\n",
            "Epoch 37/60\n",
            "40/40 [==============================] - 3s 63ms/step - loss: 0.7105 - accuracy: 0.7328 - val_loss: 1.1881 - val_accuracy: 0.5691\n",
            "Epoch 38/60\n",
            "40/40 [==============================] - 2s 58ms/step - loss: 0.6688 - accuracy: 0.7510 - val_loss: 1.1854 - val_accuracy: 0.5817\n",
            "Epoch 39/60\n",
            "40/40 [==============================] - 3s 63ms/step - loss: 0.6388 - accuracy: 0.7606 - val_loss: 1.1805 - val_accuracy: 0.5831\n",
            "Epoch 40/60\n",
            "40/40 [==============================] - 3s 66ms/step - loss: 0.6189 - accuracy: 0.7690 - val_loss: 1.3287 - val_accuracy: 0.5590\n",
            "Epoch 41/60\n",
            "40/40 [==============================] - 3s 65ms/step - loss: 0.6002 - accuracy: 0.7754 - val_loss: 1.2920 - val_accuracy: 0.5457\n",
            "Epoch 42/60\n",
            "40/40 [==============================] - 3s 64ms/step - loss: 0.5620 - accuracy: 0.7910 - val_loss: 1.1991 - val_accuracy: 0.5829\n",
            "Epoch 43/60\n",
            "40/40 [==============================] - 2s 58ms/step - loss: 0.5587 - accuracy: 0.7944 - val_loss: 1.2606 - val_accuracy: 0.5588\n",
            "Epoch 44/60\n",
            "40/40 [==============================] - 3s 64ms/step - loss: 0.5385 - accuracy: 0.8010 - val_loss: 1.3233 - val_accuracy: 0.5459\n",
            "Epoch 45/60\n",
            "40/40 [==============================] - 3s 66ms/step - loss: 0.5160 - accuracy: 0.8104 - val_loss: 1.3713 - val_accuracy: 0.5447\n",
            "Epoch 46/60\n",
            "40/40 [==============================] - 2s 60ms/step - loss: 0.4863 - accuracy: 0.8180 - val_loss: 1.2964 - val_accuracy: 0.5567\n",
            "Epoch 47/60\n",
            "40/40 [==============================] - 2s 59ms/step - loss: 0.4862 - accuracy: 0.8274 - val_loss: 1.2660 - val_accuracy: 0.5617\n",
            "Epoch 48/60\n",
            "40/40 [==============================] - 2s 58ms/step - loss: 0.4476 - accuracy: 0.8430 - val_loss: 1.6365 - val_accuracy: 0.5325\n",
            "Epoch 49/60\n",
            "40/40 [==============================] - 3s 64ms/step - loss: 0.4503 - accuracy: 0.8398 - val_loss: 1.2540 - val_accuracy: 0.5834\n",
            "Epoch 50/60\n",
            "40/40 [==============================] - 2s 59ms/step - loss: 0.4471 - accuracy: 0.8452 - val_loss: 1.4339 - val_accuracy: 0.5531\n",
            "Epoch 51/60\n",
            "40/40 [==============================] - 2s 62ms/step - loss: 0.4131 - accuracy: 0.8482 - val_loss: 1.3403 - val_accuracy: 0.5863\n",
            "Epoch 52/60\n",
            "40/40 [==============================] - 2s 59ms/step - loss: 0.3934 - accuracy: 0.8590 - val_loss: 1.4710 - val_accuracy: 0.5695\n",
            "Epoch 53/60\n",
            "40/40 [==============================] - 2s 58ms/step - loss: 0.3915 - accuracy: 0.8634 - val_loss: 1.4340 - val_accuracy: 0.5596\n",
            "Epoch 54/60\n",
            "40/40 [==============================] - 2s 58ms/step - loss: 0.3595 - accuracy: 0.8658 - val_loss: 1.3085 - val_accuracy: 0.5808\n",
            "Epoch 55/60\n",
            "40/40 [==============================] - 3s 64ms/step - loss: 0.3558 - accuracy: 0.8772 - val_loss: 1.3509 - val_accuracy: 0.5688\n",
            "Epoch 56/60\n",
            "40/40 [==============================] - 3s 66ms/step - loss: 0.3292 - accuracy: 0.8868 - val_loss: 1.6391 - val_accuracy: 0.5686\n",
            "Epoch 57/60\n",
            "40/40 [==============================] - 3s 66ms/step - loss: 0.3432 - accuracy: 0.8748 - val_loss: 1.3409 - val_accuracy: 0.5762\n",
            "Epoch 58/60\n",
            "40/40 [==============================] - 3s 64ms/step - loss: 0.3307 - accuracy: 0.8826 - val_loss: 1.4680 - val_accuracy: 0.5655\n",
            "Epoch 59/60\n",
            "40/40 [==============================] - 2s 59ms/step - loss: 0.3069 - accuracy: 0.8924 - val_loss: 1.6642 - val_accuracy: 0.5697\n",
            "Epoch 60/60\n",
            "40/40 [==============================] - 2s 59ms/step - loss: 0.3053 - accuracy: 0.8940 - val_loss: 1.7186 - val_accuracy: 0.5731\n"
          ]
        },
        {
          "output_type": "execute_result",
          "data": {
            "text/plain": [
              "<keras.src.callbacks.History at 0x7b3f7c75a1d0>"
            ]
          },
          "metadata": {},
          "execution_count": 18
        }
      ],
      "source": [
        "model.fit(x= x_train,y = y_train, batch_size = 128, epochs = 60, validation_data = (x_test,y_test))"
      ]
    },
    {
      "cell_type": "code",
      "execution_count": 19,
      "id": "3932bbe8",
      "metadata": {
        "id": "3932bbe8"
      },
      "outputs": [],
      "source": [
        "label = ['angry','happy','neutral','sad','surprise']"
      ]
    },
    {
      "cell_type": "code",
      "execution_count": 20,
      "id": "b0ccbacf",
      "metadata": {
        "id": "b0ccbacf"
      },
      "outputs": [],
      "source": [
        "def ef(image):\n",
        "    img = load_img(image,grayscale =  True )\n",
        "    feature = np.array(img)\n",
        "    feature = feature.reshape(1,48,48,1)\n",
        "    return feature/255.0\n"
      ]
    },
    {
      "cell_type": "code",
      "execution_count": 22,
      "id": "8994206c",
      "metadata": {
        "id": "8994206c"
      },
      "outputs": [],
      "source": [
        "import matplotlib.pyplot as plt\n",
        "%matplotlib inline"
      ]
    },
    {
      "cell_type": "code",
      "execution_count": 23,
      "id": "c83af9e1",
      "metadata": {
        "id": "c83af9e1",
        "outputId": "c40f84b9-3075-46d4-d0be-62d5c97758cd",
        "colab": {
          "base_uri": "https://localhost:8080/",
          "height": 505
        }
      },
      "outputs": [
        {
          "output_type": "stream",
          "name": "stdout",
          "text": [
            "original image is of sad\n",
            "1/1 [==============================] - 0s 17ms/step\n",
            "model prediction is  angry\n"
          ]
        },
        {
          "output_type": "execute_result",
          "data": {
            "text/plain": [
              "<matplotlib.image.AxesImage at 0x7b3f5c0bb8e0>"
            ]
          },
          "metadata": {},
          "execution_count": 23
        },
        {
          "output_type": "display_data",
          "data": {
            "text/plain": [
              "<Figure size 640x480 with 1 Axes>"
            ],
            "image/png": "[encoded data removed]"
          },
          "metadata": {}
        }
      ],
      "source": [
        "image = 'drive/MyDrive/images/train/angry/24638.jpg'\n",
        "print(\"original image is of sad\")\n",
        "img = ef(image)\n",
        "pred = model.predict(img)\n",
        "pred_label = label[pred.argmax()]\n",
        "print(\"model prediction is \",pred_label)\n",
        "plt.imshow(img.reshape(48,48),cmap='gray')"
      ]
    },
    {
      "cell_type": "code",
      "execution_count": null,
      "id": "1c4befa7",
      "metadata": {
        "id": "1c4befa7",
        "outputId": "6f81e6c5-c108-45fa-de48-5ac946d3d62c"
      },
      "outputs": [
        {
          "name": "stdout",
          "output_type": "stream",
          "text": [
            "original image is of happy\n",
            "1/1 [==============================] - 0s 68ms/step\n",
            "model prediction is  happy\n"
          ]
        },
        {
          "data": {
            "text/plain": [
              "<matplotlib.image.AxesImage at 0x1e6acbe61d0>"
            ]
          },
          "execution_count": 40,
          "metadata": {},
          "output_type": "execute_result"
        },
        {
          "data": {
            "image/png": "[encoded data removed]",
            "text/plain": [
              "<Figure size 640x480 with 1 Axes>"
            ]
          },
          "metadata": {},
          "output_type": "display_data"
        }
      ],
      "source": [
        "image = 'drive/MyDrive/images/test/surprise/21299.jpg'\n",
        "print(\"original image is of happy\")\n",
        "img = ef(image)\n",
        "pred = model.predict(img)\n",
        "pred_label = label[pred.argmax()]\n",
        "print(\"model prediction is \",pred_label)\n",
        "plt.imshow(img.reshape(48,48),cmap='gray')"
      ]
    },
    {
      "cell_type": "code",
      "execution_count": null,
      "id": "8d6bb2fa",
      "metadata": {
        "id": "8d6bb2fa",
        "outputId": "8906f55c-7804-4e0d-a88c-fcbe53770a8c"
      },
      "outputs": [
        {
          "name": "stdout",
          "output_type": "stream",
          "text": [
            "original image is of surprise\n",
            "1/1 [==============================] - 0s 60ms/step\n",
            "model prediction is  surprise\n"
          ]
        },
        {
          "data": {
            "text/plain": [
              "<matplotlib.image.AxesImage at 0x1e6cbcca680>"
            ]
          },
          "execution_count": 41,
          "metadata": {},
          "output_type": "execute_result"
        },
        {
          "data": {
            "image/png": "[encoded data removed]",
            "text/plain": [
              "<Figure size 640x480 with 1 Axes>"
            ]
          },
          "metadata": {},
          "output_type": "display_data"
        }
      ],
      "source": [
        "image = 'images/train/surprise/15.jpg'\n",
        "print(\"original image is of surprise\")\n",
        "img = ef(image)\n",
        "pred = model.predict(img)\n",
        "pred_label = label[pred.argmax()]\n",
        "print(\"model prediction is \",pred_label)\n",
        "plt.imshow(img.reshape(48,48),cmap='gray')"
      ]
    }
  ],
  "metadata": {
    "kernelspec": {
      "display_name": "Python 3",
      "name": "python3"
    },
    "language_info": {
      "codemirror_mode": {
        "name": "ipython",
        "version": 3
      },
      "file_extension": ".py",
      "mimetype": "text/x-python",
      "name": "python",
      "nbconvert_exporter": "python",
      "pygments_lexer": "ipython3",
      "version": "3.11.6"
    },
    "colab": {
      "provenance": [],
      "gpuType": "T4"
    },
    "accelerator": "GPU"
  },
  "nbformat": 4,
  "nbformat_minor": 5
}